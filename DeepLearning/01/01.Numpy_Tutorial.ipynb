{
 "cells": [
  {
   "cell_type": "markdown",
   "metadata": {
    "colab_type": "text",
    "id": "qFO2pZyMUYi6"
   },
   "source": [
    "# 01. Numpy Tutorial "
   ]
  },
  {
   "cell_type": "markdown",
   "metadata": {
    "colab_type": "text",
    "id": "glf0qDsEUYi8"
   },
   "source": [
    "-----------------------------"
   ]
  },
  {
   "cell_type": "markdown",
   "metadata": {
    "colab_type": "text",
    "id": "OqQ4gLAAUYi9"
   },
   "source": [
    "## assignment 관련 설명 \n",
    "\n",
    "### 1. 기본\n",
    "\n",
    "1) 기본: 'shift + enter' 로 각 셀을 실행합니다.\n",
    "\n",
    "2) ###START CODE HERE ### 와 ### END CODE HERE ### 사이의 빈 칸에 답을 적으시면 됩니다.\n",
    "\n",
    "3) (= X lines of code) 라고 적혀 있으면, X개의 줄 만큼의 답을 적으시면 됩니다.\n",
    "\n",
    "4) 빈칸 이외의 부분은 건드리지 말아주세요.\n",
    "\n",
    "5) 셀은 위에서부터 순서대로 실행해주세요.\n",
    "\n",
    "6) 여유가 되신다면 빈칸 이외의 부분도 관심을 가지고 공부하는 것도 추천드립니다.\n"
   ]
  },
  {
   "cell_type": "markdown",
   "metadata": {
    "colab_type": "text",
    "id": "4f8deKVoUYi9"
   },
   "source": [
    "### 2. 자꾸 error 가 날 때\n",
    "\n",
    "1) 처음부터 끝까지 순서대로 다시 실행 (특히, import 했는지 확인해보기)\n",
    "\n",
    "2) 문제를 잘 읽었는지 확인해보기\n",
    "\n",
    "3) 대소문자를 구별해서 적었는지 확인해주세요.\n",
    "\n",
    "4) 튜터에게 error 부분 스샷 잘 찍어서 질문하기\n",
    "\n",
    "### 3. 셀이 실행 안 될 때\n",
    "\n",
    "1) 좌측 상단에서 kernel -> Restart kernel 실행"
   ]
  },
  {
   "cell_type": "markdown",
   "metadata": {
    "colab_type": "text",
    "id": "4SEsllGmUYi-"
   },
   "source": [
    "-----------------"
   ]
  },
  {
   "cell_type": "markdown",
   "metadata": {
    "colab_type": "text",
    "id": "v13AldnhUYi_"
   },
   "source": [
    "### <빈칸에 들어갈 함수 목록>\n",
    "\n",
    "#### <font color=\"red\"> **각 함수를 찾아 가면서 문제를 풀어주세요.**\n",
    "    \n",
    "**1. shift + tab == np.info('궁금한 함수')**\n",
    "\n",
    "**2. np.lookfor('일부만 기억나는 함수')**\n",
    "\n",
    "**3. numpy 공식 문서 검색**\n",
    "\n",
    "**4. 구글링**\n",
    "\n",
    "**5. 튜터 질문**\n",
    "\n",
    "#### <font color=\"red\"> (검색은 왼쪽의 포맷으로, 실제 답안 작성할 때는 오른쪽 형식으로 하시면 됩니다.)    \n",
    "    \n",
    "자세한 건 찾으면서 배우는 게 좋습니다."
   ]
  },
  {
   "cell_type": "markdown",
   "metadata": {
    "colab_type": "text",
    "id": "V-z32HPRUYi_"
   },
   "source": [
    "1) numpy.dot / np.dot()\n",
    "\n",
    "2) numpy.sum / np.sum()\n",
    "\n",
    "3) numpy.ndarray.shape / X.shape\n",
    "\n",
    "4) numpy.ndarray.T / X.T\n",
    "\n",
    "5) numpy.ndarray.reshape / X.reshape()\n",
    "\n",
    "6) numpy.exp / np.exp()\n",
    "\n",
    "7) numpy.multiply / np.multiply()\n",
    "\n",
    "8) numpy.arange / np.arange()"
   ]
  },
  {
   "cell_type": "code",
   "execution_count": 1,
   "metadata": {
    "colab": {},
    "colab_type": "code",
    "id": "p5tq5M9AUYjA"
   },
   "outputs": [],
   "source": [
    "import numpy as np\n"
   ]
  },
  {
   "cell_type": "markdown",
   "metadata": {
    "colab_type": "text",
    "id": "xMal2oJOUYjE"
   },
   "source": [
    "----------------"
   ]
  },
  {
   "cell_type": "markdown",
   "metadata": {
    "colab_type": "text",
    "id": "Lc7MChk5UYjF"
   },
   "source": [
    "## <font color=\"blue\"> Question 1\n",
    "    \n",
    "**조건:** X1, A1, B1 모두 2-D array이다. X1 = A1B1(행렬 곱)의 관계를 가진다.\n",
    "    \n",
    "**문제:** 해당 for loop을 vectorization 하시오."
   ]
  },
  {
   "cell_type": "code",
   "execution_count": 2,
   "metadata": {
    "colab": {},
    "colab_type": "code",
    "id": "9TDCinHXUYjF"
   },
   "outputs": [
    {
     "data": {
      "text/plain": [
       "array([[0.87898281],\n",
       "       [0.42770665],\n",
       "       [1.17356634],\n",
       "       [0.89451623],\n",
       "       [0.85724055],\n",
       "       [1.71855792],\n",
       "       [1.38761975],\n",
       "       [0.83178384]])"
      ]
     },
     "execution_count": 2,
     "metadata": {},
     "output_type": "execute_result"
    }
   ],
   "source": [
    "# 문제 설정\n",
    "\n",
    "n1, m1 = 8, 4\n",
    "np.random.seed(1)\n",
    "\n",
    "X1_for_loop = np.zeros((n1,1))\n",
    "A1 = np.random.rand(n1,m1)\n",
    "B1 = np.random.rand(m1,1)\n",
    "\n",
    "# for loop\n",
    "\n",
    "for i in range(n1):\n",
    "    for j in range(m1):\n",
    "        X1_for_loop[i] += A1[i][j] *B1[j]\n",
    "\n",
    "X1_for_loop\n",
    "\n"
   ]
  },
  {
   "cell_type": "code",
   "execution_count": 3,
   "metadata": {
    "colab": {},
    "colab_type": "code",
    "id": "o3FLsbefUYjI"
   },
   "outputs": [
    {
     "data": {
      "text/plain": [
       "array([[0.87898281],\n",
       "       [0.42770665],\n",
       "       [1.17356634],\n",
       "       [0.89451623],\n",
       "       [0.85724055],\n",
       "       [1.71855792],\n",
       "       [1.38761975],\n",
       "       [0.83178384]])"
      ]
     },
     "execution_count": 3,
     "metadata": {},
     "output_type": "execute_result"
    }
   ],
   "source": [
    "# vectorization\n",
    "\n",
    "### START CODE HERE ### (≈ 1 line of code)\n",
    "X1_vectorization = np.dot(A1,B1)\n",
    "### END CODE HERE ###\n",
    "X1_vectorization"
   ]
  },
  {
   "cell_type": "code",
   "execution_count": 4,
   "metadata": {
    "colab": {},
    "colab_type": "code",
    "id": "ZCq2vuKxUYjK"
   },
   "outputs": [],
   "source": [
    "# 해당 셀이 문제없이 실행되어야 정답입니다.\n",
    "\n",
    "assert(X1_for_loop[5] == X1_vectorization[5])"
   ]
  },
  {
   "cell_type": "markdown",
   "metadata": {
    "colab_type": "text",
    "id": "DeFl5m13UYjM"
   },
   "source": [
    "-------------------------------------"
   ]
  },
  {
   "cell_type": "markdown",
   "metadata": {
    "colab_type": "text",
    "id": "bin49TfHUYjN"
   },
   "source": [
    "## <font color=\"blue\"> Question 2\n",
    "    \n",
    "**조건:** X2 = [x1, x2, ...], A2 = [exp(x1), exp(x2), ...]\n",
    "\n",
    "**문제:** 해당 for loop을 vectorization 하시오."
   ]
  },
  {
   "cell_type": "markdown",
   "metadata": {
    "colab_type": "text",
    "id": "22hektQwUYjN"
   },
   "source": [
    "$$ exp(x) = e^{x} $$"
   ]
  },
  {
   "cell_type": "code",
   "execution_count": 5,
   "metadata": {
    "colab": {},
    "colab_type": "code",
    "id": "TrHj_Fh9UYjO"
   },
   "outputs": [
    {
     "data": {
      "text/plain": [
       "array([[1.5174359 ],\n",
       "       [2.05509997],\n",
       "       [1.00011438],\n",
       "       [1.35301113],\n",
       "       [1.15807123],\n",
       "       [1.09673611],\n",
       "       [1.20473571],\n",
       "       [1.41278188]])"
      ]
     },
     "execution_count": 5,
     "metadata": {},
     "output_type": "execute_result"
    }
   ],
   "source": [
    "# 기본 설정\n",
    "import math\n",
    "\n",
    "n2 = 8\n",
    "np.random.seed(1)\n",
    "X2 = np.random.rand(n2,1)\n",
    "A2_for_loop = np.zeros((n2,1))\n",
    "A2_vectorization = np.zeros((n2,1))\n",
    "\n",
    "# for loop\n",
    "\n",
    "for i in range(n2):\n",
    "    A2_for_loop[i] = math.exp(X2[i])\n",
    "    \n",
    "A2_for_loop"
   ]
  },
  {
   "cell_type": "code",
   "execution_count": 6,
   "metadata": {
    "colab": {},
    "colab_type": "code",
    "id": "1PWYhSNtUYjQ"
   },
   "outputs": [
    {
     "data": {
      "text/plain": [
       "array([[1.5174359 ],\n",
       "       [2.05509997],\n",
       "       [1.00011438],\n",
       "       [1.35301113],\n",
       "       [1.15807123],\n",
       "       [1.09673611],\n",
       "       [1.20473571],\n",
       "       [1.41278188]])"
      ]
     },
     "execution_count": 6,
     "metadata": {},
     "output_type": "execute_result"
    }
   ],
   "source": [
    "# vectorization\n",
    "\n",
    "### START CODE HERE ### (≈ 1 line of code)\n",
    "A2_vectorization = np.exp(X2)\n",
    "### END CODE HERE ###\n",
    "A2_vectorization"
   ]
  },
  {
   "cell_type": "code",
   "execution_count": 7,
   "metadata": {
    "colab": {},
    "colab_type": "code",
    "id": "rtvd6ZVRUYjT"
   },
   "outputs": [],
   "source": [
    "# 해당 셀이 문제없이 실행되어야 정답입니다.\n",
    "\n",
    "assert(np.array(A2_for_loop == A2_vectorization).all)"
   ]
  },
  {
   "cell_type": "markdown",
   "metadata": {
    "colab_type": "text",
    "id": "dcvJar_lUYjV"
   },
   "source": [
    "-------------------------------------------------"
   ]
  },
  {
   "cell_type": "markdown",
   "metadata": {
    "colab_type": "text",
    "id": "npyM4lq4UYjW"
   },
   "source": [
    "## <font color=\"blue\"> Question 3\n",
    "    \n",
    "**조건:** $$X3 = \n",
    "\\begin{bmatrix}\n",
    "    1 & 2 & 3 & 4 \\\\\n",
    "    5 & 6 & 7 & 8 \\\\\n",
    "    3 & 4 & 5 & 6 \\\\\n",
    "\\end{bmatrix}$$\n",
    "\n",
    "**문제:** 주어진 nd array의 shape을 구하시오"
   ]
  },
  {
   "cell_type": "code",
   "execution_count": 8,
   "metadata": {
    "colab": {},
    "colab_type": "code",
    "id": "eKw8wK-rUYjW"
   },
   "outputs": [
    {
     "data": {
      "text/plain": [
       "(3, 4)"
      ]
     },
     "execution_count": 8,
     "metadata": {},
     "output_type": "execute_result"
    }
   ],
   "source": [
    "# 기본 설정\n",
    "\n",
    "X3 = np.array([[1,2,3,4],[5,6,7,8],[3,4,5,6]])\n",
    "\n",
    "### START CODE HERE ### (≈ 1 line of code)\n",
    "ans = X3.shape\n",
    "### END CODE HERE ###\n",
    "ans"
   ]
  },
  {
   "cell_type": "code",
   "execution_count": 9,
   "metadata": {
    "colab": {},
    "colab_type": "code",
    "id": "EWbW4GzPUYjY"
   },
   "outputs": [],
   "source": [
    "# 해당 셀이 문제없이 실행되어야 정답입니다.\n",
    "\n",
    "assert(ans[1]-ans[0])"
   ]
  },
  {
   "cell_type": "markdown",
   "metadata": {
    "colab_type": "text",
    "id": "ZLLG9rqgUYja"
   },
   "source": [
    "----------------------"
   ]
  },
  {
   "cell_type": "markdown",
   "metadata": {
    "colab_type": "text",
    "id": "QRUNnrpBUYjb"
   },
   "source": [
    "## <font color=\"blue\"> Question 4\n",
    "    \n",
    "**조건:** (X를 임의의 nd array라 할 때) np.arange()와 X.reshape을 사용해보기\n",
    "\n",
    "$$X4 = \n",
    "\\begin{bmatrix}\n",
    "    0 & 1 \\\\\n",
    "    2 & 3 \\\\\n",
    "    4 & 5 \\\\\n",
    "    6 & 7 \\\\\n",
    "\\end{bmatrix}$$\n",
    "\n",
    "**문제:** 위의 nd array를 조건을 이용해서 만드시오."
   ]
  },
  {
   "cell_type": "code",
   "execution_count": 10,
   "metadata": {
    "colab": {},
    "colab_type": "code",
    "id": "MdjqsaZjUYjc"
   },
   "outputs": [
    {
     "data": {
      "text/plain": [
       "array([[0, 1],\n",
       "       [2, 3],\n",
       "       [4, 5],\n",
       "       [6, 7]])"
      ]
     },
     "execution_count": 10,
     "metadata": {},
     "output_type": "execute_result"
    }
   ],
   "source": [
    "### START CODE HERE ### (≈ 2 line of code) (1줄로 만들어도 됩니다.)\n",
    "X4_orig = np.arange(8)\n",
    "X4 = X4_orig.reshape(4,2)\n",
    "### END CODE HERE ###\n",
    "\n",
    "X4"
   ]
  },
  {
   "cell_type": "markdown",
   "metadata": {
    "colab_type": "text",
    "id": "V4nYlbZZUYje"
   },
   "source": [
    "---------------------"
   ]
  },
  {
   "cell_type": "markdown",
   "metadata": {
    "colab_type": "text",
    "id": "8kpFeehpUYjf"
   },
   "source": [
    "## cf> indexing & slicing\n",
    "\n",
    "#### 당장 나오는 개념은 아니지만 향후 프로젝트와 나중에 사용할 pandas 라이브러리에서 핵심이 되는 내용이니 잘 익혀두길 바랍니다.\n",
    "\n",
    "1) 컴퓨터는 index를 줄 때, 0부터 시작합니다. 그래서 0이 제일 첫번째를 의미하고 1이 두번째를 의미합니다.\n",
    "\n",
    "2) -1은 가장 마지막 index를 의미합니다. 이와 같은 원리로 -2는 마지막에서 두번째 index를 의미합니다.\n",
    "\n",
    "3) a:b 가 의미하는 바는 a부터 b-1번째 index까지 slice하겠다는 의미입니다.\n",
    "\n",
    "4) ,를 경계로 행이 앞이고 열이 뒤를 의미합니다. 즉, [행 index, 열 index] 라는 말입니다."
   ]
  },
  {
   "cell_type": "markdown",
   "metadata": {
    "colab_type": "text",
    "id": "ux4bDPY7UYjf"
   },
   "source": [
    "#### <font color=\"skyblue\"> 1> 1D array"
   ]
  },
  {
   "cell_type": "markdown",
   "metadata": {
    "colab_type": "text",
    "id": "HOOkAfZtUYjg"
   },
   "source": [
    "$$ Z1 = \n",
    "\\begin{bmatrix}\n",
    "    9 & 5 & 7 & 6 & 2 & 0\\\\\n",
    "\\end{bmatrix}$$"
   ]
  },
  {
   "cell_type": "code",
   "execution_count": 11,
   "metadata": {
    "colab": {},
    "colab_type": "code",
    "id": "-scrxvIdUYjh"
   },
   "outputs": [
    {
     "data": {
      "text/plain": [
       "array([9, 5, 7, 6, 2, 0])"
      ]
     },
     "execution_count": 11,
     "metadata": {},
     "output_type": "execute_result"
    }
   ],
   "source": [
    "Z1 = np.array([9,5,7,6,2,0])\n",
    "Z1"
   ]
  },
  {
   "cell_type": "code",
   "execution_count": 12,
   "metadata": {
    "colab": {},
    "colab_type": "code",
    "id": "HFyjBqyKUYjj"
   },
   "outputs": [
    {
     "name": "stdout",
     "output_type": "stream",
     "text": [
      "Z1[0] = 9\n",
      "Z1[3] = 6\n",
      "Z1[-1] = 0\n",
      "Z1[2:] = [7 6 2 0]\n",
      "Z1[:4] = [9 5 7 6]\n",
      "Z1[1:3] = [5 7]\n"
     ]
    }
   ],
   "source": [
    "print('Z1[0] = '+str(Z1[0])) # 0 번째(맨 앞) 원소\n",
    "print('Z1[3] = '+str(Z1[3])) # 3 번째 원소 == 앞에서 4 번쨰 원소 \n",
    "print('Z1[-1] = '+str(Z1[-1])) # 마지막 원소 == Z1[5]\n",
    "print('Z1[2:] = '+str(Z1[2:])) # 2번째 원소부터 끝까지\n",
    "print('Z1[:4] = '+str(Z1[:4])) # 처음부터 4번째 원소 전!!까지 == 0~3번째 원소\n",
    "print('Z1[1:3] = '+str(Z1[1:3])) # 1번째 원소부터 3번째 원소 전까지 == 1~2번째 원소"
   ]
  },
  {
   "cell_type": "markdown",
   "metadata": {
    "colab_type": "text",
    "id": "SKin3vG0UYjl"
   },
   "source": [
    "#### <font color=\"skyblue\"> 2> 2D array"
   ]
  },
  {
   "cell_type": "markdown",
   "metadata": {
    "colab_type": "text",
    "id": "fWnVo_DdUYjm"
   },
   "source": [
    "$$Z2 = \n",
    "\\begin{bmatrix}\n",
    "    0 & 1 & 2 \\\\\n",
    "    3 & 4 & 5\\\\\n",
    "    6 & 7 & 8\\\\\n",
    "    9 & 10 & 11\\\\\n",
    "\\end{bmatrix}$$"
   ]
  },
  {
   "cell_type": "code",
   "execution_count": 13,
   "metadata": {
    "colab": {},
    "colab_type": "code",
    "id": "9ukf8a61UYjn"
   },
   "outputs": [
    {
     "data": {
      "text/plain": [
       "array([[ 0,  1,  2],\n",
       "       [ 3,  4,  5],\n",
       "       [ 6,  7,  8],\n",
       "       [ 9, 10, 11]])"
      ]
     },
     "execution_count": 13,
     "metadata": {},
     "output_type": "execute_result"
    }
   ],
   "source": [
    "Z2 = np.array([[0,1,2],[3,4,5],[6,7,8],[9,10,11]])\n",
    "Z2"
   ]
  },
  {
   "cell_type": "code",
   "execution_count": 14,
   "metadata": {
    "colab": {},
    "colab_type": "code",
    "id": "_C9G6jT_UYjq"
   },
   "outputs": [
    {
     "name": "stdout",
     "output_type": "stream",
     "text": [
      "Z2[0] = [0 1 2]\n",
      "Z2[0, :] = [0 1 2]\n",
      "Z2[:, 2] = [ 2  5  8 11]\n",
      "Z2[2,1] = 7\n",
      "Z2[-1] = [ 9 10 11]\n"
     ]
    }
   ],
   "source": [
    "print('Z2[0] = '+str(Z2[0])) # Z2의 0번째 행 \n",
    "print('Z2[0, :] = '+str(Z2[0, :])) # Z2의 0번째 행\n",
    "print('Z2[:, 2] = '+str(Z2[:,2])) # Z2의  1번째 열 \n",
    "print('Z2[2,1] = '+str(Z2[2,1])) # Z2의 2번째 행과 1번째 열에 있는 원소 \n",
    "print('Z2[-1] = '+str(Z2[-1])) # Z2의 마지막 행"
   ]
  },
  {
   "cell_type": "markdown",
   "metadata": {
    "colab_type": "text",
    "id": "psVBylFfUYjs"
   },
   "source": [
    "## <font color=\"blue\"> Mini-Question\n",
    "    \n",
    "**조건:** $$M = \n",
    "\\begin{bmatrix}\n",
    "    2 & 4 & 6 & 8 \\\\\n",
    "    10 & 12 & 14 & 16 \\\\\n",
    "    18 & 20 & 22 & 24 \\\\\n",
    "\\end{bmatrix}$$\n",
    "\n",
    "**문제:** \n",
    "    \n",
    "1) 22를 indexing 해보시오.(mini_ans1) \n",
    "    \n",
    "2) array([10,12,14,16])을 slicing 해보시오. (mini_ans2)\n",
    "    \n",
    "3) array([6,14,22])를 slicing 해보시오. (mini_ans3)"
   ]
  },
  {
   "cell_type": "code",
   "execution_count": 15,
   "metadata": {
    "colab": {},
    "colab_type": "code",
    "id": "_O6uFhHYUYju"
   },
   "outputs": [
    {
     "data": {
      "text/plain": [
       "array([[ 2,  4,  6,  8],\n",
       "       [10, 12, 14, 16],\n",
       "       [18, 20, 22, 24]])"
      ]
     },
     "execution_count": 15,
     "metadata": {},
     "output_type": "execute_result"
    }
   ],
   "source": [
    "# 기본 설정\n",
    "\n",
    "M = np.arange(2,25,2).reshape(3,4)\n",
    "M"
   ]
  },
  {
   "cell_type": "code",
   "execution_count": 16,
   "metadata": {
    "colab": {},
    "colab_type": "code",
    "id": "Y9QTeYRuUYjz"
   },
   "outputs": [
    {
     "data": {
      "text/plain": [
       "array([], shape=(0, 4), dtype=int32)"
      ]
     },
     "execution_count": 16,
     "metadata": {},
     "output_type": "execute_result"
    }
   ],
   "source": [
    "# mini_ans1\n",
    "\n",
    "### START CODE HERE ### (≈ 1 line of code)\n",
    "mini_ans1 = M[2:2]\n",
    "### END CODE HERE ###\n",
    "mini_ans1"
   ]
  },
  {
   "cell_type": "code",
   "execution_count": 17,
   "metadata": {
    "colab": {},
    "colab_type": "code",
    "id": "E_ehhY35UYj1"
   },
   "outputs": [
    {
     "data": {
      "text/plain": [
       "array([10, 12, 14, 16])"
      ]
     },
     "execution_count": 17,
     "metadata": {},
     "output_type": "execute_result"
    }
   ],
   "source": [
    "# mini_ans2\n",
    "\n",
    "### START CODE HERE ### (≈ 1 line of code)\n",
    "mini_ans2 = M[1,:]\n",
    "### END CODE HERE ###\n",
    "mini_ans2"
   ]
  },
  {
   "cell_type": "code",
   "execution_count": 18,
   "metadata": {
    "colab": {},
    "colab_type": "code",
    "id": "ZB5C-P9YUYj3"
   },
   "outputs": [
    {
     "data": {
      "text/plain": [
       "array([ 6, 14, 22])"
      ]
     },
     "execution_count": 18,
     "metadata": {},
     "output_type": "execute_result"
    }
   ],
   "source": [
    "# mini_ans3\n",
    "\n",
    "### START CODE HERE ### (≈ 1 line of code)\n",
    "mini_ans3 = M[:,2]\n",
    "### END CODE HERE ###\n",
    "mini_ans3"
   ]
  },
  {
   "cell_type": "markdown",
   "metadata": {
    "colab_type": "text",
    "id": "6c2CzEzUUYj5"
   },
   "source": [
    "-----------------------------------------"
   ]
  },
  {
   "cell_type": "markdown",
   "metadata": {
    "colab_type": "text",
    "id": "pJjnCkLPUYj5"
   },
   "source": [
    "## <font color=\"blue\"> Question 5\n",
    "    \n",
    "**조건:** $$X5 = \n",
    "\\begin{bmatrix}\n",
    "    1 & 2 & 3 & 4 \\\\\n",
    "    5 & 6 & 7 & 8 \\\\\n",
    "    9 & 10 & 11 & 12 \\\\\n",
    "\\end{bmatrix}$$\n",
    "\n",
    "**문제:** 주어진 nd array의 원소들의 합을 구하시오."
   ]
  },
  {
   "cell_type": "code",
   "execution_count": 19,
   "metadata": {
    "colab": {},
    "colab_type": "code",
    "id": "gsJc3EObUYj6"
   },
   "outputs": [
    {
     "data": {
      "text/plain": [
       "78"
      ]
     },
     "execution_count": 19,
     "metadata": {},
     "output_type": "execute_result"
    }
   ],
   "source": [
    "# 기본 설정\n",
    "\n",
    "X5 = np.array([[1,2,3,4],[5,6,7,8],[9,10,11,12]])\n",
    "\n",
    "### START CODE HERE ### (≈ 1 line of code)\n",
    "ans5 = np.sum(X5)\n",
    "### END CODE HERE ###\n",
    "\n",
    "ans5"
   ]
  },
  {
   "cell_type": "markdown",
   "metadata": {
    "colab_type": "text",
    "id": "MLl8_YFDUYj7"
   },
   "source": [
    "---------------------------------------------------"
   ]
  },
  {
   "cell_type": "markdown",
   "metadata": {
    "colab_type": "text",
    "id": "mQgYlA0qUYj8"
   },
   "source": [
    "## <font color=\"blue\"> Question 6\n",
    "    \n",
    "**조건:** $$X6 = \n",
    "\\begin{bmatrix}\n",
    "    1 & 2 & 3 & 4 \\\\\n",
    "    5 & 6 & 7 & 8 \\\\\n",
    "    9 & 10 & 11 & 12 \\\\\n",
    "\\end{bmatrix}$$\n",
    "\n",
    "**문제:** 주어진 행렬의 전치행렬(transpose)을 구하시오."
   ]
  },
  {
   "cell_type": "code",
   "execution_count": 20,
   "metadata": {
    "colab": {},
    "colab_type": "code",
    "id": "uXuEFR80UYj8"
   },
   "outputs": [
    {
     "data": {
      "text/plain": [
       "array([[ 1,  5,  9],\n",
       "       [ 2,  6, 10],\n",
       "       [ 3,  7, 11],\n",
       "       [ 4,  8, 12]])"
      ]
     },
     "execution_count": 20,
     "metadata": {},
     "output_type": "execute_result"
    }
   ],
   "source": [
    "# 기본 설정\n",
    "\n",
    "X6 = np.array([[1,2,3,4],[5,6,7,8],[9,10,11,12]])\n",
    "\n",
    "### START CODE HERE ### (≈ 1 line of code)\n",
    "ans6 = X6.T\n",
    "### END CODE HERE ###\n",
    "\n",
    "ans6"
   ]
  },
  {
   "cell_type": "code",
   "execution_count": 21,
   "metadata": {
    "colab": {},
    "colab_type": "code",
    "id": "YAWWB-4EUYj-"
   },
   "outputs": [],
   "source": [
    "# 해당 셀이 문제없이 실행되어야 정답입니다.\n",
    "\n",
    "assert((ans6[0,1] + ans6[2,2]) == 16)"
   ]
  },
  {
   "cell_type": "markdown",
   "metadata": {
    "colab_type": "text",
    "id": "C45gkzhmUYj_"
   },
   "source": [
    "--------------------------"
   ]
  },
  {
   "cell_type": "markdown",
   "metadata": {
    "colab_type": "text",
    "id": "NwfC62b7UYj_"
   },
   "source": [
    "## <font color=\"blue\"> Question 7\n",
    "    \n",
    "**조건:** $$X7 = \n",
    "\\begin{bmatrix}\n",
    "    1 & 2 & 3 & 4 \\\\\n",
    "    5 & 6 & 7 & 8 \\\\\n",
    "    9 & 10 & 11 & 12 \\\\\n",
    "\\end{bmatrix} \\\n",
    "\\text{,     }\n",
    "Y7 = \n",
    "\\begin{bmatrix}\n",
    "    2 & 2 & 2 & 2 \\\\\n",
    "    5 & 5 & 5 & 5 \\\\\n",
    "    7 & 7 & 7 & 7 \\\\\n",
    "\\end{bmatrix}\n",
    "$$\n",
    "\n",
    "**문제:** 주어진 행렬 간의 element wise product wise을 구하시오."
   ]
  },
  {
   "cell_type": "code",
   "execution_count": 22,
   "metadata": {
    "colab": {},
    "colab_type": "code",
    "id": "0QHeR6f5UYkA"
   },
   "outputs": [
    {
     "data": {
      "text/plain": [
       "array([[ 2,  4,  6,  8],\n",
       "       [25, 30, 35, 40],\n",
       "       [63, 70, 77, 84]])"
      ]
     },
     "execution_count": 22,
     "metadata": {},
     "output_type": "execute_result"
    }
   ],
   "source": [
    "# 기본 설정\n",
    "\n",
    "X7 = np.array([[1,2,3,4],[5,6,7,8],[9,10,11,12]])\n",
    "Y7 = np.array([[2,2,2,2],[5,5,5,5],[7,7,7,7]])\n",
    "\n",
    "### START CODE HERE ### (≈ 1 line of code)\n",
    "ans7 = np.multiply(X7,Y7)\n",
    "### END CODE HERE ###\n",
    "\n",
    "ans7"
   ]
  },
  {
   "cell_type": "code",
   "execution_count": 23,
   "metadata": {
    "colab": {},
    "colab_type": "code",
    "id": "ZeT5J_8sUYkC"
   },
   "outputs": [],
   "source": [
    "# 해당 셀이 문제없이 실행되어야 정답입니다.\n",
    "\n",
    "assert((ans7[2,0] + ans7[2,3]) == 147)"
   ]
  },
  {
   "cell_type": "markdown",
   "metadata": {
    "colab_type": "text",
    "id": "FIiBLcMxUYkE"
   },
   "source": [
    "---------------------------"
   ]
  },
  {
   "cell_type": "markdown",
   "metadata": {
    "colab_type": "text",
    "id": "MgWuBBwEUYkF"
   },
   "source": [
    "----------------------"
   ]
  },
  {
   "cell_type": "markdown",
   "metadata": {
    "colab_type": "text",
    "id": "ke601t_eUYkF"
   },
   "source": [
    "## <font color=\"darkred\"> 고민해볼 것 \n",
    "    \n",
    "### (필수 과제는 아니지만 생각해보고 다음 수업 참여하면 더 도움이 될 것입니다.)"
   ]
  },
  {
   "cell_type": "markdown",
   "metadata": {
    "colab_type": "text",
    "id": "dl4lcylJUYkG"
   },
   "source": [
    "### <font color=\"blue\"> 1. np.sum에서 axis는 무엇을 의미하는가?\n",
    "    \n",
    "$$X = \n",
    "\\begin{bmatrix}\n",
    "    1 & 2 & 3 & 4 \\\\\n",
    "    5 & 6 & 7 & 8 \\\\\n",
    "    9 & 10 & 11 & 12 \\\\\n",
    "\\end{bmatrix}$$\n",
    "   "
   ]
  },
  {
   "cell_type": "code",
   "execution_count": 24,
   "metadata": {
    "colab": {},
    "colab_type": "code",
    "id": "8rgSQD2AUYkG"
   },
   "outputs": [
    {
     "data": {
      "text/plain": [
       "array([[ 1,  2,  3,  4],\n",
       "       [ 5,  6,  7,  8],\n",
       "       [ 9, 10, 11, 12]])"
      ]
     },
     "execution_count": 24,
     "metadata": {},
     "output_type": "execute_result"
    }
   ],
   "source": [
    "# 기본 설정\n",
    "\n",
    "X = np.arange(1,13).reshape(3,4)\n",
    "X"
   ]
  },
  {
   "cell_type": "code",
   "execution_count": 25,
   "metadata": {
    "colab": {},
    "colab_type": "code",
    "id": "4vvK5SFuUYkI"
   },
   "outputs": [
    {
     "data": {
      "text/plain": [
       "78"
      ]
     },
     "execution_count": 25,
     "metadata": {},
     "output_type": "execute_result"
    }
   ],
   "source": [
    "np.sum(X)"
   ]
  },
  {
   "cell_type": "code",
   "execution_count": 26,
   "metadata": {
    "colab": {},
    "colab_type": "code",
    "id": "GSgaggH6UYkJ"
   },
   "outputs": [
    {
     "data": {
      "text/plain": [
       "array([15, 18, 21, 24])"
      ]
     },
     "execution_count": 26,
     "metadata": {},
     "output_type": "execute_result"
    }
   ],
   "source": [
    "np.sum(X, axis=0)"
   ]
  },
  {
   "cell_type": "code",
   "execution_count": 27,
   "metadata": {
    "colab": {},
    "colab_type": "code",
    "id": "68wwwZwYUYkL"
   },
   "outputs": [
    {
     "data": {
      "text/plain": [
       "array([10, 26, 42])"
      ]
     },
     "execution_count": 27,
     "metadata": {},
     "output_type": "execute_result"
    }
   ],
   "source": [
    "np.sum(X, axis=1)"
   ]
  },
  {
   "cell_type": "markdown",
   "metadata": {
    "colab_type": "text",
    "id": "5cNnYpCFUYkN"
   },
   "source": [
    "### <font color=\"blue\"> 2. np.sum에서 axis =2 왜 error인가?"
   ]
  },
  {
   "cell_type": "code",
   "execution_count": 28,
   "metadata": {
    "colab": {},
    "colab_type": "code",
    "id": "G3YpcTPhUYkN"
   },
   "outputs": [
    {
     "ename": "AxisError",
     "evalue": "axis 2 is out of bounds for array of dimension 2",
     "output_type": "error",
     "traceback": [
      "\u001b[1;31m-----------------------------------------------------------------------\u001b[0m",
      "\u001b[1;31mAxisError\u001b[0m                             Traceback (most recent call last)",
      "\u001b[1;32m~\\AppData\\Local\\Temp/ipykernel_9328/4270914274.py\u001b[0m in \u001b[0;36m<module>\u001b[1;34m\u001b[0m\n\u001b[1;32m----> 1\u001b[1;33m \u001b[0mnp\u001b[0m\u001b[1;33m.\u001b[0m\u001b[0msum\u001b[0m\u001b[1;33m(\u001b[0m\u001b[0mX\u001b[0m\u001b[1;33m,\u001b[0m \u001b[0maxis\u001b[0m\u001b[1;33m=\u001b[0m\u001b[1;36m2\u001b[0m\u001b[1;33m)\u001b[0m\u001b[1;33m\u001b[0m\u001b[1;33m\u001b[0m\u001b[0m\n\u001b[0m",
      "\u001b[1;32m<__array_function__ internals>\u001b[0m in \u001b[0;36msum\u001b[1;34m(*args, **kwargs)\u001b[0m\n",
      "\u001b[1;32mC:\\Anaconda\\envs\\kse\\lib\\site-packages\\numpy\\core\\fromnumeric.py\u001b[0m in \u001b[0;36msum\u001b[1;34m(a, axis, dtype, out, keepdims, initial, where)\u001b[0m\n\u001b[0;32m   2257\u001b[0m         \u001b[1;32mreturn\u001b[0m \u001b[0mres\u001b[0m\u001b[1;33m\u001b[0m\u001b[1;33m\u001b[0m\u001b[0m\n\u001b[0;32m   2258\u001b[0m \u001b[1;33m\u001b[0m\u001b[0m\n\u001b[1;32m-> 2259\u001b[1;33m     return _wrapreduction(a, np.add, 'sum', axis, dtype, out, keepdims=keepdims,\n\u001b[0m\u001b[0;32m   2260\u001b[0m                           initial=initial, where=where)\n\u001b[0;32m   2261\u001b[0m \u001b[1;33m\u001b[0m\u001b[0m\n",
      "\u001b[1;32mC:\\Anaconda\\envs\\kse\\lib\\site-packages\\numpy\\core\\fromnumeric.py\u001b[0m in \u001b[0;36m_wrapreduction\u001b[1;34m(obj, ufunc, method, axis, dtype, out, **kwargs)\u001b[0m\n\u001b[0;32m     84\u001b[0m                 \u001b[1;32mreturn\u001b[0m \u001b[0mreduction\u001b[0m\u001b[1;33m(\u001b[0m\u001b[0maxis\u001b[0m\u001b[1;33m=\u001b[0m\u001b[0maxis\u001b[0m\u001b[1;33m,\u001b[0m \u001b[0mout\u001b[0m\u001b[1;33m=\u001b[0m\u001b[0mout\u001b[0m\u001b[1;33m,\u001b[0m \u001b[1;33m**\u001b[0m\u001b[0mpasskwargs\u001b[0m\u001b[1;33m)\u001b[0m\u001b[1;33m\u001b[0m\u001b[1;33m\u001b[0m\u001b[0m\n\u001b[0;32m     85\u001b[0m \u001b[1;33m\u001b[0m\u001b[0m\n\u001b[1;32m---> 86\u001b[1;33m     \u001b[1;32mreturn\u001b[0m \u001b[0mufunc\u001b[0m\u001b[1;33m.\u001b[0m\u001b[0mreduce\u001b[0m\u001b[1;33m(\u001b[0m\u001b[0mobj\u001b[0m\u001b[1;33m,\u001b[0m \u001b[0maxis\u001b[0m\u001b[1;33m,\u001b[0m \u001b[0mdtype\u001b[0m\u001b[1;33m,\u001b[0m \u001b[0mout\u001b[0m\u001b[1;33m,\u001b[0m \u001b[1;33m**\u001b[0m\u001b[0mpasskwargs\u001b[0m\u001b[1;33m)\u001b[0m\u001b[1;33m\u001b[0m\u001b[1;33m\u001b[0m\u001b[0m\n\u001b[0m\u001b[0;32m     87\u001b[0m \u001b[1;33m\u001b[0m\u001b[0m\n\u001b[0;32m     88\u001b[0m \u001b[1;33m\u001b[0m\u001b[0m\n",
      "\u001b[1;31mAxisError\u001b[0m: axis 2 is out of bounds for array of dimension 2"
     ]
    }
   ],
   "source": [
    "np.sum(X, axis=2)"
   ]
  },
  {
   "cell_type": "markdown",
   "metadata": {
    "colab_type": "text",
    "id": "qV3XVu09UYkP"
   },
   "source": [
    "### <font color=\"blue\"> 3. np.sum에서 keepdims는 무엇인가?"
   ]
  },
  {
   "cell_type": "code",
   "execution_count": 29,
   "metadata": {
    "colab": {},
    "colab_type": "code",
    "id": "Qaq0AgccUYkP"
   },
   "outputs": [
    {
     "data": {
      "text/plain": [
       "array([[78]])"
      ]
     },
     "execution_count": 29,
     "metadata": {},
     "output_type": "execute_result"
    }
   ],
   "source": [
    "np.sum(X, keepdims=True)"
   ]
  },
  {
   "cell_type": "code",
   "execution_count": 30,
   "metadata": {
    "colab": {},
    "colab_type": "code",
    "id": "cIVPUS91UYkQ"
   },
   "outputs": [
    {
     "data": {
      "text/plain": [
       "array([[15, 18, 21, 24]])"
      ]
     },
     "execution_count": 30,
     "metadata": {},
     "output_type": "execute_result"
    }
   ],
   "source": [
    "np.sum(X, axis=0, keepdims=True)"
   ]
  },
  {
   "cell_type": "code",
   "execution_count": 31,
   "metadata": {
    "colab": {},
    "colab_type": "code",
    "id": "7xRHqOoZUYkS"
   },
   "outputs": [
    {
     "data": {
      "text/plain": [
       "array([[10],\n",
       "       [26],\n",
       "       [42]])"
      ]
     },
     "execution_count": 31,
     "metadata": {},
     "output_type": "execute_result"
    }
   ],
   "source": [
    "np.sum(X, axis=1, keepdims=True)"
   ]
  },
  {
   "cell_type": "markdown",
   "metadata": {
    "colab_type": "text",
    "id": "PldTWaZyUYkT"
   },
   "source": [
    "### <font color=\"blue\"> 4.reshape에 -1이 들어가면 어떤 현상이 벌어지는가?\n",
    "    \n",
    "$$Y = \\begin{bmatrix}\n",
    "    0 & 1 & 2 & 3 & 4 & 5 & 6 & 7 & 8 & 9 & 10 & 11\\\\\n",
    "\\end{bmatrix}$$"
   ]
  },
  {
   "cell_type": "code",
   "execution_count": 32,
   "metadata": {
    "colab": {},
    "colab_type": "code",
    "id": "KrDL8nI_UYkU"
   },
   "outputs": [
    {
     "data": {
      "text/plain": [
       "array([ 0,  1,  2,  3,  4,  5,  6,  7,  8,  9, 10, 11])"
      ]
     },
     "execution_count": 32,
     "metadata": {},
     "output_type": "execute_result"
    }
   ],
   "source": [
    "# 기본 설정\n",
    "\n",
    "Y = np.arange(12)\n",
    "Y"
   ]
  },
  {
   "cell_type": "code",
   "execution_count": 33,
   "metadata": {
    "colab": {},
    "colab_type": "code",
    "id": "fqTiiP56UYkW"
   },
   "outputs": [
    {
     "data": {
      "text/plain": [
       "array([[ 0,  1,  2,  3,  4,  5],\n",
       "       [ 6,  7,  8,  9, 10, 11]])"
      ]
     },
     "execution_count": 33,
     "metadata": {},
     "output_type": "execute_result"
    }
   ],
   "source": [
    "Y.reshape(2,6)"
   ]
  },
  {
   "cell_type": "code",
   "execution_count": 34,
   "metadata": {
    "colab": {},
    "colab_type": "code",
    "id": "7PKVykwRUYkZ"
   },
   "outputs": [
    {
     "data": {
      "text/plain": [
       "array([[ 0,  1,  2,  3,  4,  5],\n",
       "       [ 6,  7,  8,  9, 10, 11]])"
      ]
     },
     "execution_count": 34,
     "metadata": {},
     "output_type": "execute_result"
    }
   ],
   "source": [
    "Y.reshape(-1,6)"
   ]
  },
  {
   "cell_type": "code",
   "execution_count": 35,
   "metadata": {
    "colab": {},
    "colab_type": "code",
    "id": "5LToDHIJUYka"
   },
   "outputs": [
    {
     "data": {
      "text/plain": [
       "array([[ 0,  1,  2,  3,  4,  5],\n",
       "       [ 6,  7,  8,  9, 10, 11]])"
      ]
     },
     "execution_count": 35,
     "metadata": {},
     "output_type": "execute_result"
    }
   ],
   "source": [
    "Y.reshape(2,-1)"
   ]
  },
  {
   "cell_type": "code",
   "execution_count": 36,
   "metadata": {
    "colab": {},
    "colab_type": "code",
    "id": "Y7-E1lobUYkb"
   },
   "outputs": [
    {
     "data": {
      "text/plain": [
       "array([[ 0,  1,  2,  3],\n",
       "       [ 4,  5,  6,  7],\n",
       "       [ 8,  9, 10, 11]])"
      ]
     },
     "execution_count": 36,
     "metadata": {},
     "output_type": "execute_result"
    }
   ],
   "source": [
    "Y.reshape(3,4)"
   ]
  },
  {
   "cell_type": "code",
   "execution_count": 37,
   "metadata": {
    "colab": {},
    "colab_type": "code",
    "id": "BkoIRWuAUYkd"
   },
   "outputs": [
    {
     "data": {
      "text/plain": [
       "array([[ 0,  1,  2,  3],\n",
       "       [ 4,  5,  6,  7],\n",
       "       [ 8,  9, 10, 11]])"
      ]
     },
     "execution_count": 37,
     "metadata": {},
     "output_type": "execute_result"
    }
   ],
   "source": [
    "Y.reshape(-1,4)"
   ]
  },
  {
   "cell_type": "code",
   "execution_count": 38,
   "metadata": {
    "colab": {},
    "colab_type": "code",
    "id": "eWv9jM2wUYke"
   },
   "outputs": [
    {
     "data": {
      "text/plain": [
       "array([[ 0,  1,  2,  3],\n",
       "       [ 4,  5,  6,  7],\n",
       "       [ 8,  9, 10, 11]])"
      ]
     },
     "execution_count": 38,
     "metadata": {},
     "output_type": "execute_result"
    }
   ],
   "source": [
    "Y.reshape(3,-1)"
   ]
  },
  {
   "cell_type": "code",
   "execution_count": 39,
   "metadata": {
    "colab": {},
    "colab_type": "code",
    "id": "Uezj2tJGUYkh"
   },
   "outputs": [
    {
     "ename": "ValueError",
     "evalue": "can only specify one unknown dimension",
     "output_type": "error",
     "traceback": [
      "\u001b[1;31m-----------------------------------------------------------------------\u001b[0m",
      "\u001b[1;31mValueError\u001b[0m                            Traceback (most recent call last)",
      "\u001b[1;32m~\\AppData\\Local\\Temp/ipykernel_9328/4218574669.py\u001b[0m in \u001b[0;36m<module>\u001b[1;34m\u001b[0m\n\u001b[1;32m----> 1\u001b[1;33m \u001b[0mY\u001b[0m\u001b[1;33m.\u001b[0m\u001b[0mreshape\u001b[0m\u001b[1;33m(\u001b[0m\u001b[1;33m-\u001b[0m\u001b[1;36m1\u001b[0m\u001b[1;33m,\u001b[0m\u001b[1;33m-\u001b[0m\u001b[1;36m1\u001b[0m\u001b[1;33m)\u001b[0m \u001b[1;31m# 이건 error가 납니다.\u001b[0m\u001b[1;33m\u001b[0m\u001b[1;33m\u001b[0m\u001b[0m\n\u001b[0m",
      "\u001b[1;31mValueError\u001b[0m: can only specify one unknown dimension"
     ]
    }
   ],
   "source": [
    "Y.reshape(-1,-1) # 이건 error가 납니다."
   ]
  },
  {
   "cell_type": "markdown",
   "metadata": {
    "colab_type": "text",
    "id": "joiB2pmaUYki"
   },
   "source": [
    "### <font color=\"blue\"> 5. 이 연산은 shape이 안 맞는데 가능한 것인가?\n",
    "    \n",
    "$$X = \n",
    "\\begin{bmatrix}\n",
    "    1 & 2 & 3 & 4 \\\\\n",
    "    5 & 6 & 7 & 8 \\\\\n",
    "    9 & 10 & 11 & 12 \\\\\n",
    "\\end{bmatrix}$$"
   ]
  },
  {
   "cell_type": "code",
   "execution_count": 40,
   "metadata": {
    "colab": {},
    "colab_type": "code",
    "id": "JGjLfp8NUYki"
   },
   "outputs": [
    {
     "data": {
      "text/plain": [
       "array([[ 1,  2,  3,  4],\n",
       "       [ 5,  6,  7,  8],\n",
       "       [ 9, 10, 11, 12]])"
      ]
     },
     "execution_count": 40,
     "metadata": {},
     "output_type": "execute_result"
    }
   ],
   "source": [
    "# 기본 설정\n",
    "\n",
    "X = np.arange(1,13).reshape(3,4)\n",
    "X"
   ]
  },
  {
   "cell_type": "code",
   "execution_count": 41,
   "metadata": {
    "colab": {},
    "colab_type": "code",
    "id": "okSk8KMqUYkj"
   },
   "outputs": [
    {
     "data": {
      "text/plain": [
       "array([[11, 12, 13, 14],\n",
       "       [15, 16, 17, 18],\n",
       "       [19, 20, 21, 22]])"
      ]
     },
     "execution_count": 41,
     "metadata": {},
     "output_type": "execute_result"
    }
   ],
   "source": [
    "X + 10"
   ]
  },
  {
   "cell_type": "code",
   "execution_count": 42,
   "metadata": {
    "colab": {},
    "colab_type": "code",
    "id": "2FOBDdeqUYkl"
   },
   "outputs": [
    {
     "data": {
      "text/plain": [
       "array([[0, 0, 0, 0],\n",
       "       [4, 4, 4, 4],\n",
       "       [8, 8, 8, 8]])"
      ]
     },
     "execution_count": 42,
     "metadata": {},
     "output_type": "execute_result"
    }
   ],
   "source": [
    "X + np.array([-1,-2,-3,-4])"
   ]
  },
  {
   "cell_type": "code",
   "execution_count": 43,
   "metadata": {
    "colab": {},
    "colab_type": "code",
    "id": "18U0lUBlUYkm"
   },
   "outputs": [
    {
     "data": {
      "text/plain": [
       "array([[0, 1, 2, 3],\n",
       "       [0, 1, 2, 3],\n",
       "       [0, 1, 2, 3]])"
      ]
     },
     "execution_count": 43,
     "metadata": {},
     "output_type": "execute_result"
    }
   ],
   "source": [
    "X + np.array([[-1],[-5],[-9]])"
   ]
  },
  {
   "cell_type": "code",
   "execution_count": null,
   "metadata": {},
   "outputs": [],
   "source": []
  }
 ],
 "metadata": {
  "colab": {
   "name": "Week 2 Assignment.ipynb",
   "provenance": []
  },
  "kernelspec": {
   "display_name": "Python 3 (ipykernel)",
   "language": "python",
   "name": "python3"
  },
  "language_info": {
   "codemirror_mode": {
    "name": "ipython",
    "version": 3
   },
   "file_extension": ".py",
   "mimetype": "text/x-python",
   "name": "python",
   "nbconvert_exporter": "python",
   "pygments_lexer": "ipython3",
   "version": "3.8.10"
  }
 },
 "nbformat": 4,
 "nbformat_minor": 4
}
