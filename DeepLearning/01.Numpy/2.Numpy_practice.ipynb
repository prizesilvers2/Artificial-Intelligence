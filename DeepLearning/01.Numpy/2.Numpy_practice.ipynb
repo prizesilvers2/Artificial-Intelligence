{
 "cells": [
  {
   "cell_type": "markdown",
   "metadata": {
    "colab_type": "text",
    "id": "xpoVAU7RuTef"
   },
   "source": [
    "# Numpy 특강 part 2 실습자료"
   ]
  },
  {
   "cell_type": "code",
   "execution_count": 1,
   "metadata": {
    "colab": {},
    "colab_type": "code",
    "id": "tLE29J4quTei"
   },
   "outputs": [],
   "source": [
    "import numpy as np"
   ]
  },
  {
   "cell_type": "markdown",
   "metadata": {
    "colab_type": "text",
    "id": "vKgN1k67uTel"
   },
   "source": [
    "----------------"
   ]
  },
  {
   "cell_type": "markdown",
   "metadata": {
    "colab_type": "text",
    "id": "KCMDAbejuTem"
   },
   "source": [
    "## 2. - 4) numpy.arange\n",
    "jupyter notebook/lab을 사용하시는 경우 np.arange에 키보드 커서를 두고 shift + tab을 누르시면 함수 설명을 볼 수 있습니다.  \n",
    "Ctrl + space는 자동완성 키입니다."
   ]
  },
  {
   "cell_type": "markdown",
   "metadata": {
    "colab_type": "text",
    "id": "nDIc9G3vuTep"
   },
   "source": [
    "### case 1 : np.arange(stop)\n",
    "\n",
    "0부터 시작해서 stop 직전의 수까지 1d array로 만들어진 array\n",
    "\n",
    "1> 0부터 시작해서 stop 직전의 수까지 1d array로 만들어진 array"
   ]
  },
  {
   "cell_type": "code",
   "execution_count": 2,
   "metadata": {
    "colab": {
     "base_uri": "https://localhost:8080/",
     "height": 36
    },
    "colab_type": "code",
    "executionInfo": {
     "elapsed": 880,
     "status": "ok",
     "timestamp": 1578749085358,
     "user": {
      "displayName": "박은천",
      "photoUrl": "",
      "userId": "14521844370247226015"
     },
     "user_tz": -540
    },
    "id": "MbOY9h3IuTeq",
    "outputId": "813f1a71-4a72-4d73-c8cc-6b5128c603a4"
   },
   "outputs": [
    {
     "data": {
      "text/plain": [
       "array([ 0,  1,  2,  3,  4,  5,  6,  7,  8,  9, 10, 11])"
      ]
     },
     "execution_count": 2,
     "metadata": {},
     "output_type": "execute_result"
    }
   ],
   "source": [
    "np.arange(12)"
   ]
  },
  {
   "cell_type": "markdown",
   "metadata": {
    "colab_type": "text",
    "id": "lLI2FzqkuTes"
   },
   "source": [
    "### case 2 : np.arange(start, stop)\n",
    "\n",
    "start부터 시작해서 stop 직전의 수까지 1d array로 만들어진 array\n",
    "\n",
    "2> start부터 시작해서 1> stop 직전의 수까지 1d array로 만들어진 array"
   ]
  },
  {
   "cell_type": "code",
   "execution_count": 3,
   "metadata": {
    "colab": {
     "base_uri": "https://localhost:8080/",
     "height": 36
    },
    "colab_type": "code",
    "executionInfo": {
     "elapsed": 1077,
     "status": "ok",
     "timestamp": 1578749092585,
     "user": {
      "displayName": "박은천",
      "photoUrl": "",
      "userId": "14521844370247226015"
     },
     "user_tz": -540
    },
    "id": "BPjv81ivuTes",
    "outputId": "6ec87a77-9a0c-416f-e0d1-67a65762c2c7"
   },
   "outputs": [
    {
     "data": {
      "text/plain": [
       "array([ 3,  4,  5,  6,  7,  8,  9, 10, 11])"
      ]
     },
     "execution_count": 3,
     "metadata": {},
     "output_type": "execute_result"
    }
   ],
   "source": [
    "np.arange(3,12)"
   ]
  },
  {
   "cell_type": "markdown",
   "metadata": {
    "colab_type": "text",
    "id": "XteX0IjBuTeu"
   },
   "source": [
    "### case 3 : np.arange(start, stop, step)\n",
    "\n",
    "start부터 시작해서 stop 직전의 수까지 step씩 증가하는 수를 1d array로 만든다.\n",
    "\n",
    "2> start부터 시작해서 1> stop 직전의 수까지 3> step씩 증가하는 수를 1d array로 만든다."
   ]
  },
  {
   "cell_type": "code",
   "execution_count": 4,
   "metadata": {
    "colab": {
     "base_uri": "https://localhost:8080/",
     "height": 36
    },
    "colab_type": "code",
    "executionInfo": {
     "elapsed": 1034,
     "status": "ok",
     "timestamp": 1578749097991,
     "user": {
      "displayName": "박은천",
      "photoUrl": "",
      "userId": "14521844370247226015"
     },
     "user_tz": -540
    },
    "id": "1X9gPM2CuTev",
    "outputId": "78d9ae6e-9502-4e18-ae9e-e3d5036b74f9"
   },
   "outputs": [
    {
     "data": {
      "text/plain": [
       "array([3, 6, 9])"
      ]
     },
     "execution_count": 4,
     "metadata": {},
     "output_type": "execute_result"
    }
   ],
   "source": [
    "np.arange(3,12,3)"
   ]
  },
  {
   "cell_type": "markdown",
   "metadata": {
    "colab_type": "text",
    "id": "MhmxqRkjuTex"
   },
   "source": [
    "------------"
   ]
  },
  {
   "cell_type": "markdown",
   "metadata": {
    "colab_type": "text",
    "id": "kjx3mHhUuTey"
   },
   "source": [
    "## 2. - 5) numpy.ndarray.reshape"
   ]
  },
  {
   "cell_type": "markdown",
   "metadata": {
    "colab_type": "text",
    "id": "cMzDSkpouTey"
   },
   "source": [
    "X.reshape: X라는 nd array(N-dimensional array)를 내가 원하는 shape에 맞게 재배열해준다."
   ]
  },
  {
   "cell_type": "markdown",
   "metadata": {
    "colab_type": "text",
    "id": "Y5a9WbfIuTez"
   },
   "source": [
    "### 1) 기본"
   ]
  },
  {
   "cell_type": "code",
   "execution_count": 5,
   "metadata": {
    "colab": {
     "base_uri": "https://localhost:8080/",
     "height": 36
    },
    "colab_type": "code",
    "executionInfo": {
     "elapsed": 1090,
     "status": "ok",
     "timestamp": 1578748623859,
     "user": {
      "displayName": "박은천",
      "photoUrl": "",
      "userId": "14521844370247226015"
     },
     "user_tz": -540
    },
    "id": "Si8JnBg0uTe0",
    "outputId": "9f3c463c-c0aa-4226-97eb-6ddc00e8d99f"
   },
   "outputs": [
    {
     "data": {
      "text/plain": [
       "array([ 0,  1,  2,  3,  4,  5,  6,  7,  8,  9, 10, 11])"
      ]
     },
     "execution_count": 5,
     "metadata": {},
     "output_type": "execute_result"
    }
   ],
   "source": [
    "np.arange(12)"
   ]
  },
  {
   "cell_type": "code",
   "execution_count": 6,
   "metadata": {
    "colab": {
     "base_uri": "https://localhost:8080/",
     "height": 91
    },
    "colab_type": "code",
    "executionInfo": {
     "elapsed": 521,
     "status": "ok",
     "timestamp": 1578748625383,
     "user": {
      "displayName": "박은천",
      "photoUrl": "",
      "userId": "14521844370247226015"
     },
     "user_tz": -540
    },
    "id": "NSyODydwuTe2",
    "outputId": "8855e39c-9082-4fc7-f4b5-779fcc2afbf9"
   },
   "outputs": [
    {
     "data": {
      "text/plain": [
       "array([[ 0,  1,  2],\n",
       "       [ 3,  4,  5],\n",
       "       [ 6,  7,  8],\n",
       "       [ 9, 10, 11]])"
      ]
     },
     "execution_count": 6,
     "metadata": {},
     "output_type": "execute_result"
    }
   ],
   "source": [
    "a = np.arange(12).reshape(4,3)\n",
    "a"
   ]
  },
  {
   "cell_type": "code",
   "execution_count": 7,
   "metadata": {
    "colab": {
     "base_uri": "https://localhost:8080/",
     "height": 54
    },
    "colab_type": "code",
    "executionInfo": {
     "elapsed": 512,
     "status": "ok",
     "timestamp": 1578748627026,
     "user": {
      "displayName": "박은천",
      "photoUrl": "",
      "userId": "14521844370247226015"
     },
     "user_tz": -540
    },
    "id": "gBGCXq8yuTe4",
    "outputId": "bcddae5a-d10a-446d-91f0-9ef42447dfd8"
   },
   "outputs": [
    {
     "data": {
      "text/plain": [
       "array([[ 0,  1,  2,  3,  4,  5],\n",
       "       [ 6,  7,  8,  9, 10, 11]])"
      ]
     },
     "execution_count": 7,
     "metadata": {},
     "output_type": "execute_result"
    }
   ],
   "source": [
    "b = a.reshape(2,6)\n",
    "b"
   ]
  },
  {
   "cell_type": "markdown",
   "metadata": {
    "colab_type": "text",
    "id": "or83QBm4uTe5"
   },
   "source": [
    "### 2) -1의 의미?"
   ]
  },
  {
   "cell_type": "code",
   "execution_count": 8,
   "metadata": {
    "colab": {
     "base_uri": "https://localhost:8080/",
     "height": 36
    },
    "colab_type": "code",
    "executionInfo": {
     "elapsed": 1073,
     "status": "ok",
     "timestamp": 1578748635525,
     "user": {
      "displayName": "박은천",
      "photoUrl": "",
      "userId": "14521844370247226015"
     },
     "user_tz": -540
    },
    "id": "AOPTK1vOuTe6",
    "outputId": "f839ee7a-c906-4207-e74c-5db23f4f02e5"
   },
   "outputs": [
    {
     "data": {
      "text/plain": [
       "array([[ 0,  1,  2,  3,  4,  5,  6,  7,  8,  9, 10, 11]])"
      ]
     },
     "execution_count": 8,
     "metadata": {},
     "output_type": "execute_result"
    }
   ],
   "source": [
    "a.reshape(1,-1)\n",
    "#a.reshape(2,-1)\n",
    "#a.reshape(-1,3)\n",
    "#a.reshape(6,-1)"
   ]
  },
  {
   "cell_type": "markdown",
   "metadata": {
    "colab_type": "text",
    "id": "hPRZ3u3XuTe7"
   },
   "source": [
    "-1은 모르는 미지수(x)이다. (좋은 기법이다. 대신에 아래 조건을 충족해야한다.)\n",
    "\n",
    "a.reshape(p,-1)\n",
    "\n",
    "a의 element개수 = p * x이어야 한다. 그리고 -1 자리에 왼쪽 조건을 만족하는 x가 알아서 들어간다."
   ]
  },
  {
   "cell_type": "code",
   "execution_count": 9,
   "metadata": {
    "colab": {
     "base_uri": "https://localhost:8080/",
     "height": 128
    },
    "colab_type": "code",
    "executionInfo": {
     "elapsed": 851,
     "status": "ok",
     "timestamp": 1578748638696,
     "user": {
      "displayName": "박은천",
      "photoUrl": "",
      "userId": "14521844370247226015"
     },
     "user_tz": -540
    },
    "id": "vUxa2IW6uTe8",
    "outputId": "ea1fc4cb-f790-45eb-ffea-ee505933f024"
   },
   "outputs": [
    {
     "data": {
      "text/plain": [
       "array([ 0,  1,  2,  3,  4,  5,  6,  7,  8,  9, 10, 11, 12, 13, 14, 15, 16,\n",
       "       17, 18, 19, 20, 21, 22, 23, 24, 25, 26, 27, 28, 29, 30, 31, 32, 33,\n",
       "       34, 35, 36, 37, 38, 39, 40, 41, 42, 43, 44, 45, 46, 47, 48, 49, 50,\n",
       "       51, 52, 53, 54, 55, 56, 57, 58, 59, 60, 61, 62, 63, 64, 65, 66, 67,\n",
       "       68, 69, 70, 71, 72, 73, 74, 75, 76, 77, 78, 79, 80, 81, 82, 83, 84,\n",
       "       85, 86, 87, 88, 89, 90, 91, 92, 93, 94, 95, 96, 97, 98, 99])"
      ]
     },
     "execution_count": 9,
     "metadata": {},
     "output_type": "execute_result"
    }
   ],
   "source": [
    "A = np.arange(100)\n",
    "A"
   ]
  },
  {
   "cell_type": "code",
   "execution_count": 10,
   "metadata": {
    "colab": {
     "base_uri": "https://localhost:8080/",
     "height": 203
    },
    "colab_type": "code",
    "executionInfo": {
     "elapsed": 1320,
     "status": "ok",
     "timestamp": 1578748641900,
     "user": {
      "displayName": "박은천",
      "photoUrl": "",
      "userId": "14521844370247226015"
     },
     "user_tz": -540
    },
    "id": "-h_68JRJuTe-",
    "outputId": "3724770e-833a-43f8-cd89-4bfab439ac14"
   },
   "outputs": [
    {
     "data": {
      "text/plain": [
       "array([[ 0,  1,  2,  3,  4,  5,  6,  7,  8,  9],\n",
       "       [10, 11, 12, 13, 14, 15, 16, 17, 18, 19],\n",
       "       [20, 21, 22, 23, 24, 25, 26, 27, 28, 29],\n",
       "       [30, 31, 32, 33, 34, 35, 36, 37, 38, 39],\n",
       "       [40, 41, 42, 43, 44, 45, 46, 47, 48, 49],\n",
       "       [50, 51, 52, 53, 54, 55, 56, 57, 58, 59],\n",
       "       [60, 61, 62, 63, 64, 65, 66, 67, 68, 69],\n",
       "       [70, 71, 72, 73, 74, 75, 76, 77, 78, 79],\n",
       "       [80, 81, 82, 83, 84, 85, 86, 87, 88, 89],\n",
       "       [90, 91, 92, 93, 94, 95, 96, 97, 98, 99]])"
      ]
     },
     "execution_count": 10,
     "metadata": {},
     "output_type": "execute_result"
    }
   ],
   "source": [
    "A.reshape(10,-1) # shape은?"
   ]
  },
  {
   "cell_type": "code",
   "execution_count": 11,
   "metadata": {
    "colab": {
     "base_uri": "https://localhost:8080/",
     "height": 166
    },
    "colab_type": "code",
    "executionInfo": {
     "elapsed": 1106,
     "status": "ok",
     "timestamp": 1578748647698,
     "user": {
      "displayName": "박은천",
      "photoUrl": "",
      "userId": "14521844370247226015"
     },
     "user_tz": -540
    },
    "id": "-0hSBRtYuTfA",
    "outputId": "59b38623-8bfb-4157-aa14-1631da279254"
   },
   "outputs": [
    {
     "data": {
      "text/plain": [
       "array([[ 0,  1,  2,  3,  4,  5,  6,  7,  8,  9, 10, 11, 12, 13, 14, 15,\n",
       "        16, 17, 18, 19, 20, 21, 22, 23, 24],\n",
       "       [25, 26, 27, 28, 29, 30, 31, 32, 33, 34, 35, 36, 37, 38, 39, 40,\n",
       "        41, 42, 43, 44, 45, 46, 47, 48, 49],\n",
       "       [50, 51, 52, 53, 54, 55, 56, 57, 58, 59, 60, 61, 62, 63, 64, 65,\n",
       "        66, 67, 68, 69, 70, 71, 72, 73, 74],\n",
       "       [75, 76, 77, 78, 79, 80, 81, 82, 83, 84, 85, 86, 87, 88, 89, 90,\n",
       "        91, 92, 93, 94, 95, 96, 97, 98, 99]])"
      ]
     },
     "execution_count": 11,
     "metadata": {},
     "output_type": "execute_result"
    }
   ],
   "source": [
    "A.reshape(4,-1)"
   ]
  },
  {
   "cell_type": "markdown",
   "metadata": {
    "colab_type": "text",
    "id": "1TMcYVRGuTfB"
   },
   "source": [
    "하지만 -1을 제외한 다른 수는 A의 총 element 수의 약수여야한다."
   ]
  },
  {
   "cell_type": "code",
   "execution_count": 12,
   "metadata": {
    "colab": {
     "base_uri": "https://localhost:8080/",
     "height": 175
    },
    "colab_type": "code",
    "executionInfo": {
     "elapsed": 987,
     "status": "error",
     "timestamp": 1578748663026,
     "user": {
      "displayName": "박은천",
      "photoUrl": "",
      "userId": "14521844370247226015"
     },
     "user_tz": -540
    },
    "id": "rJmtjr8HuTfC",
    "outputId": "cbecd5a3-067c-47c7-c351-2812b31ed9af"
   },
   "outputs": [
    {
     "ename": "ValueError",
     "evalue": "cannot reshape array of size 100 into shape (7,newaxis)",
     "output_type": "error",
     "traceback": [
      "\u001b[1;31m-----------------------------------------------------------------------\u001b[0m",
      "\u001b[1;31mValueError\u001b[0m                            Traceback (most recent call last)",
      "\u001b[1;32m~\\AppData\\Local\\Temp/ipykernel_9260/3791635021.py\u001b[0m in \u001b[0;36m<module>\u001b[1;34m\u001b[0m\n\u001b[1;32m----> 1\u001b[1;33m \u001b[0mA\u001b[0m\u001b[1;33m.\u001b[0m\u001b[0mreshape\u001b[0m\u001b[1;33m(\u001b[0m\u001b[1;36m7\u001b[0m\u001b[1;33m,\u001b[0m\u001b[1;33m-\u001b[0m\u001b[1;36m1\u001b[0m\u001b[1;33m)\u001b[0m\u001b[1;33m\u001b[0m\u001b[1;33m\u001b[0m\u001b[0m\n\u001b[0m",
      "\u001b[1;31mValueError\u001b[0m: cannot reshape array of size 100 into shape (7,newaxis)"
     ]
    }
   ],
   "source": [
    "A.reshape(7,-1)"
   ]
  },
  {
   "cell_type": "markdown",
   "metadata": {
    "colab_type": "text",
    "id": "2_AgnsBUuTfE"
   },
   "source": [
    "------------"
   ]
  },
  {
   "cell_type": "markdown",
   "metadata": {
    "colab_type": "text",
    "id": "fHyP1__vuTfE"
   },
   "source": [
    "## 3. Broadcasting"
   ]
  },
  {
   "cell_type": "markdown",
   "metadata": {
    "colab_type": "text",
    "id": "ml69KD7euTfF"
   },
   "source": [
    "### case 1: nd array , scalar"
   ]
  },
  {
   "cell_type": "code",
   "execution_count": 13,
   "metadata": {
    "colab": {
     "base_uri": "https://localhost:8080/",
     "height": 54
    },
    "colab_type": "code",
    "executionInfo": {
     "elapsed": 894,
     "status": "ok",
     "timestamp": 1578748666147,
     "user": {
      "displayName": "박은천",
      "photoUrl": "",
      "userId": "14521844370247226015"
     },
     "user_tz": -540
    },
    "id": "KYusB2tBuTfF",
    "outputId": "236e52a0-1643-472f-b5c7-6eb54940ad27"
   },
   "outputs": [
    {
     "data": {
      "text/plain": [
       "array([[3., 3., 3., 3., 3.],\n",
       "       [3., 3., 3., 3., 3.]])"
      ]
     },
     "execution_count": 13,
     "metadata": {},
     "output_type": "execute_result"
    }
   ],
   "source": [
    "np.zeros((2,5)) +3"
   ]
  },
  {
   "cell_type": "markdown",
   "metadata": {
    "colab_type": "text",
    "id": "es15l8cnuTfH"
   },
   "source": [
    "### case 2: 2d array, 1d array"
   ]
  },
  {
   "cell_type": "code",
   "execution_count": 14,
   "metadata": {
    "colab": {
     "base_uri": "https://localhost:8080/",
     "height": 54
    },
    "colab_type": "code",
    "executionInfo": {
     "elapsed": 762,
     "status": "ok",
     "timestamp": 1578748669005,
     "user": {
      "displayName": "박은천",
      "photoUrl": "",
      "userId": "14521844370247226015"
     },
     "user_tz": -540
    },
    "id": "YhbGBMDwuTfH",
    "outputId": "1b7cd710-40bf-4f63-e0d2-36762317926b"
   },
   "outputs": [
    {
     "data": {
      "text/plain": [
       "array([[1., 2., 3.],\n",
       "       [1., 2., 3.]])"
      ]
     },
     "execution_count": 14,
     "metadata": {},
     "output_type": "execute_result"
    }
   ],
   "source": [
    "X2 = np.ones((2,3)) + np.arange(3)\n",
    "X2"
   ]
  },
  {
   "cell_type": "code",
   "execution_count": 15,
   "metadata": {
    "colab": {
     "base_uri": "https://localhost:8080/",
     "height": 36
    },
    "colab_type": "code",
    "executionInfo": {
     "elapsed": 1107,
     "status": "ok",
     "timestamp": 1578748671374,
     "user": {
      "displayName": "박은천",
      "photoUrl": "",
      "userId": "14521844370247226015"
     },
     "user_tz": -540
    },
    "id": "pIitZ1COuTfK",
    "outputId": "74988b01-d86d-4dae-a3c7-419cab91d8ed"
   },
   "outputs": [
    {
     "data": {
      "text/plain": [
       "(2, 3)"
      ]
     },
     "execution_count": 15,
     "metadata": {},
     "output_type": "execute_result"
    }
   ],
   "source": [
    "X2.shape"
   ]
  },
  {
   "cell_type": "markdown",
   "metadata": {
    "colab_type": "text",
    "id": "_K0-B3XnuTfN"
   },
   "source": [
    "### case 3: 2d array, 2d array"
   ]
  },
  {
   "cell_type": "code",
   "execution_count": 16,
   "metadata": {
    "colab": {},
    "colab_type": "code",
    "id": "b6jtJ_S2uTfO"
   },
   "outputs": [],
   "source": [
    "# 1\n",
    "\n",
    "A1 = np.arange(10).reshape(5,2)\n",
    "B1 = np.arange(20,25).reshape(5,1)"
   ]
  },
  {
   "cell_type": "code",
   "execution_count": 17,
   "metadata": {
    "colab": {
     "base_uri": "https://localhost:8080/",
     "height": 110
    },
    "colab_type": "code",
    "executionInfo": {
     "elapsed": 913,
     "status": "ok",
     "timestamp": 1578748676685,
     "user": {
      "displayName": "박은천",
      "photoUrl": "",
      "userId": "14521844370247226015"
     },
     "user_tz": -540
    },
    "id": "_ie0D1mIuTfP",
    "outputId": "d490acf3-6f96-4c65-9f88-043826a8a2d4"
   },
   "outputs": [
    {
     "data": {
      "text/plain": [
       "array([[0, 1],\n",
       "       [2, 3],\n",
       "       [4, 5],\n",
       "       [6, 7],\n",
       "       [8, 9]])"
      ]
     },
     "execution_count": 17,
     "metadata": {},
     "output_type": "execute_result"
    }
   ],
   "source": [
    "A1"
   ]
  },
  {
   "cell_type": "code",
   "execution_count": 18,
   "metadata": {
    "colab": {
     "base_uri": "https://localhost:8080/",
     "height": 110
    },
    "colab_type": "code",
    "executionInfo": {
     "elapsed": 440,
     "status": "ok",
     "timestamp": 1578748676993,
     "user": {
      "displayName": "박은천",
      "photoUrl": "",
      "userId": "14521844370247226015"
     },
     "user_tz": -540
    },
    "id": "xbldbzLjuTfR",
    "outputId": "d3234f5c-51b3-4926-8fc6-241dc78b285f"
   },
   "outputs": [
    {
     "data": {
      "text/plain": [
       "array([[20],\n",
       "       [21],\n",
       "       [22],\n",
       "       [23],\n",
       "       [24]])"
      ]
     },
     "execution_count": 18,
     "metadata": {},
     "output_type": "execute_result"
    }
   ],
   "source": [
    "B1"
   ]
  },
  {
   "cell_type": "code",
   "execution_count": 19,
   "metadata": {
    "colab": {
     "base_uri": "https://localhost:8080/",
     "height": 110
    },
    "colab_type": "code",
    "executionInfo": {
     "elapsed": 512,
     "status": "ok",
     "timestamp": 1578748677806,
     "user": {
      "displayName": "박은천",
      "photoUrl": "",
      "userId": "14521844370247226015"
     },
     "user_tz": -540
    },
    "id": "AjXb4cV_uTfS",
    "outputId": "998e3d06-6580-4d6d-f793-decd75b995db"
   },
   "outputs": [
    {
     "data": {
      "text/plain": [
       "array([[20, 21],\n",
       "       [23, 24],\n",
       "       [26, 27],\n",
       "       [29, 30],\n",
       "       [32, 33]])"
      ]
     },
     "execution_count": 19,
     "metadata": {},
     "output_type": "execute_result"
    }
   ],
   "source": [
    "A1 + B1"
   ]
  },
  {
   "cell_type": "code",
   "execution_count": 20,
   "metadata": {
    "colab": {},
    "colab_type": "code",
    "id": "oxlQuXtKuTfU"
   },
   "outputs": [],
   "source": [
    "# 2 (아까 2번 case와 유사)\n",
    "\n",
    "A2 = np.arange(10).reshape(5,2)\n",
    "B2 = np.arange(20,22).reshape(1,2)"
   ]
  },
  {
   "cell_type": "code",
   "execution_count": 21,
   "metadata": {
    "colab": {
     "base_uri": "https://localhost:8080/",
     "height": 110
    },
    "colab_type": "code",
    "executionInfo": {
     "elapsed": 958,
     "status": "ok",
     "timestamp": 1578748721537,
     "user": {
      "displayName": "박은천",
      "photoUrl": "",
      "userId": "14521844370247226015"
     },
     "user_tz": -540
    },
    "id": "TEoxJKrpuTfW",
    "outputId": "4ba0c7a5-e91b-4456-84fd-7b0f9f26f784"
   },
   "outputs": [
    {
     "data": {
      "text/plain": [
       "array([[0, 1],\n",
       "       [2, 3],\n",
       "       [4, 5],\n",
       "       [6, 7],\n",
       "       [8, 9]])"
      ]
     },
     "execution_count": 21,
     "metadata": {},
     "output_type": "execute_result"
    }
   ],
   "source": [
    "A2"
   ]
  },
  {
   "cell_type": "code",
   "execution_count": 22,
   "metadata": {
    "colab": {
     "base_uri": "https://localhost:8080/",
     "height": 36
    },
    "colab_type": "code",
    "executionInfo": {
     "elapsed": 808,
     "status": "ok",
     "timestamp": 1578748721539,
     "user": {
      "displayName": "박은천",
      "photoUrl": "",
      "userId": "14521844370247226015"
     },
     "user_tz": -540
    },
    "id": "pgLN7wnVuTfX",
    "outputId": "279cc01f-456c-4624-914b-66ffb2b81e07"
   },
   "outputs": [
    {
     "data": {
      "text/plain": [
       "array([[20, 21]])"
      ]
     },
     "execution_count": 22,
     "metadata": {},
     "output_type": "execute_result"
    }
   ],
   "source": [
    "B2"
   ]
  },
  {
   "cell_type": "code",
   "execution_count": 23,
   "metadata": {
    "colab": {
     "base_uri": "https://localhost:8080/",
     "height": 110
    },
    "colab_type": "code",
    "executionInfo": {
     "elapsed": 632,
     "status": "ok",
     "timestamp": 1578748721540,
     "user": {
      "displayName": "박은천",
      "photoUrl": "",
      "userId": "14521844370247226015"
     },
     "user_tz": -540
    },
    "id": "AqTUPYSZuTfZ",
    "outputId": "62827755-4fb9-4ed8-9dc6-8f2426a0c10d"
   },
   "outputs": [
    {
     "data": {
      "text/plain": [
       "array([[20, 22],\n",
       "       [22, 24],\n",
       "       [24, 26],\n",
       "       [26, 28],\n",
       "       [28, 30]])"
      ]
     },
     "execution_count": 23,
     "metadata": {},
     "output_type": "execute_result"
    }
   ],
   "source": [
    "A2 + B2"
   ]
  },
  {
   "cell_type": "markdown",
   "metadata": {
    "colab_type": "text",
    "id": "SYJDxwcuuTfa"
   },
   "source": [
    "### case 4: nd array (n>=3), 2d array\n",
    "\n",
    "3차원 이상의 broadcasting은 잘 다루지 않습니다."
   ]
  },
  {
   "cell_type": "code",
   "execution_count": 24,
   "metadata": {
    "colab": {
     "base_uri": "https://localhost:8080/",
     "height": 277
    },
    "colab_type": "code",
    "executionInfo": {
     "elapsed": 765,
     "status": "ok",
     "timestamp": 1578748733640,
     "user": {
      "displayName": "박은천",
      "photoUrl": "",
      "userId": "14521844370247226015"
     },
     "user_tz": -540
    },
    "id": "eVG5sYQGuTfb",
    "outputId": "076b0710-6baf-402a-c68a-93f7d16bd882"
   },
   "outputs": [
    {
     "data": {
      "text/plain": [
       "array([[[10., 10., 10., 10., 10.],\n",
       "        [10., 10., 10., 10., 10.],\n",
       "        [10., 10., 10., 10., 10.],\n",
       "        [10., 10., 10., 10., 10.]],\n",
       "\n",
       "       [[10., 10., 10., 10., 10.],\n",
       "        [10., 10., 10., 10., 10.],\n",
       "        [10., 10., 10., 10., 10.],\n",
       "        [10., 10., 10., 10., 10.]],\n",
       "\n",
       "       [[10., 10., 10., 10., 10.],\n",
       "        [10., 10., 10., 10., 10.],\n",
       "        [10., 10., 10., 10., 10.],\n",
       "        [10., 10., 10., 10., 10.]]])"
      ]
     },
     "execution_count": 24,
     "metadata": {},
     "output_type": "execute_result"
    }
   ],
   "source": [
    "X4 = np.zeros((3,4,5)) + np.full((4,5), 10)\n",
    "X4"
   ]
  },
  {
   "cell_type": "code",
   "execution_count": 25,
   "metadata": {
    "colab": {
     "base_uri": "https://localhost:8080/",
     "height": 36
    },
    "colab_type": "code",
    "executionInfo": {
     "elapsed": 532,
     "status": "ok",
     "timestamp": 1578748734143,
     "user": {
      "displayName": "박은천",
      "photoUrl": "",
      "userId": "14521844370247226015"
     },
     "user_tz": -540
    },
    "id": "pdn3U81QuTfc",
    "outputId": "a761464a-8d3c-4133-d353-1a77c15432c5"
   },
   "outputs": [
    {
     "data": {
      "text/plain": [
       "(3, 4, 5)"
      ]
     },
     "execution_count": 25,
     "metadata": {},
     "output_type": "execute_result"
    }
   ],
   "source": [
    "X4.shape"
   ]
  },
  {
   "cell_type": "markdown",
   "metadata": {
    "colab_type": "text",
    "id": "YrsJbkOEuTff"
   },
   "source": [
    "-------------"
   ]
  }
 ],
 "metadata": {
  "colab": {
   "collapsed_sections": [],
   "name": "Numpy 특강 part 2 실습자료.ipynb",
   "provenance": []
  },
  "kernelspec": {
   "display_name": "Python 3 (ipykernel)",
   "language": "python",
   "name": "python3"
  },
  "language_info": {
   "codemirror_mode": {
    "name": "ipython",
    "version": 3
   },
   "file_extension": ".py",
   "mimetype": "text/x-python",
   "name": "python",
   "nbconvert_exporter": "python",
   "pygments_lexer": "ipython3",
   "version": "3.8.10"
  }
 },
 "nbformat": 4,
 "nbformat_minor": 4
}
